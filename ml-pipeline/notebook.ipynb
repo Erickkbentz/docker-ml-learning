{
 "cells": [
  {
   "cell_type": "code",
   "execution_count": null,
   "metadata": {},
   "outputs": [],
   "source": [
    "from pipeline_builder import DockerMLPipelineBuilder\n",
    "\n",
    "builder = DockerMLPipelineBuilder(\n",
    "    image=\"tensorflow/tensorflow:latest\",\n",
    "    source_code_dir=\"src\"\n",
    ")"
   ]
  },
  {
   "cell_type": "code",
   "execution_count": null,
   "metadata": {},
   "outputs": [],
   "source": [
    "builder.add_preprocessing_stage(\n",
    "    command=\"/bin/bash -c 'pip install --no-cache-dir -r requirements.txt && python preprocessing/process.py'\",\n",
    ")"
   ]
  },
  {
   "cell_type": "code",
   "execution_count": null,
   "metadata": {},
   "outputs": [],
   "source": [
    "import os\n",
    "output_path = \"output\"\n",
    "os.makedirs(output_path, exist_ok=True)\n",
    "abs_output_path = os.path.abspath(output_path)\n",
    "\n",
    "builder.add_training_stage(\n",
    "    command=\"/bin/bash -c 'pip install --no-cache-dir -r requirements.txt && python training/train.py --input_path /data/training_data.csv --output_path /output'\",\n",
    "    volumes=[f\"{abs_output_path}:/output\"]\n",
    ")"
   ]
  },
  {
   "cell_type": "code",
   "execution_count": null,
   "metadata": {},
   "outputs": [],
   "source": [
    "builder.add_serving_stage(\n",
    "    command=\"/bin/bash -c 'pip install --no-cache-dir -r requirements.txt && python serving/serve.py --model_path /output/cnn_model.h5'\",\n",
    "    volumes=[f\"{abs_output_path}:/output\"]\n",
    ")"
   ]
  },
  {
   "cell_type": "code",
   "execution_count": 5,
   "metadata": {},
   "outputs": [],
   "source": [
    "builder.build_and_run_pipeline()"
   ]
  },
  {
   "cell_type": "code",
   "execution_count": null,
   "metadata": {},
   "outputs": [],
   "source": []
  }
 ],
 "metadata": {
  "kernelspec": {
   "display_name": "Python 3",
   "language": "python",
   "name": "python3"
  },
  "language_info": {
   "codemirror_mode": {
    "name": "ipython",
    "version": 3
   },
   "file_extension": ".py",
   "mimetype": "text/x-python",
   "name": "python",
   "nbconvert_exporter": "python",
   "pygments_lexer": "ipython3",
   "version": "3.10.13"
  }
 },
 "nbformat": 4,
 "nbformat_minor": 2
}
