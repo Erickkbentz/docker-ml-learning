{
 "cells": [
  {
   "cell_type": "code",
   "execution_count": null,
   "metadata": {},
   "outputs": [],
   "source": [
    "from pipeline_builder import DockerMLPipelineBuilder\n",
    "\n",
    "builder = DockerMLPipelineBuilder(\n",
    "    image=\"chand1012/tensorflow:2.5.0\",\n",
    "    source_code_dir=\"src\",\n",
    "    requirements_file=\"src/requirements.txt\",\n",
    ")"
   ]
  },
  {
   "cell_type": "code",
   "execution_count": null,
   "metadata": {},
   "outputs": [],
   "source": [
    "# Setup Local Directories for training artifacts\n",
    "\n",
    "import os\n",
    "output_path = \"output\"\n",
    "os.makedirs(output_path, exist_ok=True)\n",
    "abs_output_path = os.path.abspath(output_path)\n",
    "\n",
    "data_path = \"data\"\n",
    "os.makedirs(data_path, exist_ok=True)\n",
    "abs_data_path = os.path.abspath(data_path)"
   ]
  },
  {
   "cell_type": "code",
   "execution_count": null,
   "metadata": {},
   "outputs": [],
   "source": [
    "builder.add_preprocessing_stage(\n",
    "    command=\"python preprocessing/process.py\",\n",
    "    arguments=[\n",
    "        \"--output_path\", \"/data\",\n",
    "        \"--fraction\", \"0.5\"\n",
    "    ],\n",
    "    volumes=[f\"{abs_data_path}:/data\"]\n",
    ")"
   ]
  },
  {
   "cell_type": "code",
   "execution_count": null,
   "metadata": {},
   "outputs": [],
   "source": [
    "builder.add_training_stage(\n",
    "    command=\"python training/train.py\",\n",
    "    arguments=[\n",
    "        \"--input_path\", \"/data/training_data.npz\", \n",
    "        \"--output_path\", \"/output\"\n",
    "    ],\n",
    "    volumes=[f\"{abs_output_path}:/output\", f\"{abs_data_path}:/data\"],\n",
    ")"
   ]
  },
  {
   "cell_type": "code",
   "execution_count": null,
   "metadata": {},
   "outputs": [],
   "source": [
    "builder.add_serving_stage(\n",
    "    command=\"python serving/serve.py\",\n",
    "    arguments=[\"--model_path\", \"/output/cnn_model.h5\"],\n",
    "    volumes=[f\"{abs_output_path}:/output\"]\n",
    ")"
   ]
  },
  {
   "cell_type": "code",
   "execution_count": null,
   "metadata": {},
   "outputs": [],
   "source": [
    "builder.build_and_run_pipeline()"
   ]
  },
  {
   "cell_type": "code",
   "execution_count": null,
   "metadata": {},
   "outputs": [],
   "source": []
  }
 ],
 "metadata": {
  "kernelspec": {
   "display_name": "Python 3",
   "language": "python",
   "name": "python3"
  },
  "language_info": {
   "codemirror_mode": {
    "name": "ipython",
    "version": 3
   },
   "file_extension": ".py",
   "mimetype": "text/x-python",
   "name": "python",
   "nbconvert_exporter": "python",
   "pygments_lexer": "ipython3",
   "version": "3.10.13"
  }
 },
 "nbformat": 4,
 "nbformat_minor": 2
}
