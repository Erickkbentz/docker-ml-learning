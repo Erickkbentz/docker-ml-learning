{
 "cells": [
  {
   "cell_type": "code",
   "execution_count": null,
   "metadata": {},
   "outputs": [],
   "source": [
    "import os\n",
    "\n",
    "# Create output directory\n",
    "output_path = \"output\"\n",
    "os.makedirs(output_path, exist_ok=True)"
   ]
  },
  {
   "cell_type": "markdown",
   "metadata": {},
   "source": [
    "# Example 1"
   ]
  },
  {
   "cell_type": "code",
   "execution_count": null,
   "metadata": {},
   "outputs": [],
   "source": [
    "from trainer import LocalTrainer, SourceCodeConfig\n",
    "\n",
    "trainer = LocalTrainer(\n",
    "    image=\"python:3.10-slim\",\n",
    "    output_path=output_path,\n",
    ")"
   ]
  },
  {
   "cell_type": "code",
   "execution_count": null,
   "metadata": {},
   "outputs": [],
   "source": [
    "input_data = \"titanic_processed.csv\" # data exists within src directory\n",
    "\n",
    "source_code_config = SourceCodeConfig(\n",
    "    source_code_dir='src',\n",
    "    command= f\"pip install -r requirements.txt && python train.py --data_path {input_data}\",\n",
    ")\n",
    "\n",
    "trainer.run(source_code_config=source_code_config)"
   ]
  },
  {
   "cell_type": "markdown",
   "metadata": {},
   "source": [
    "# Example 2"
   ]
  },
  {
   "cell_type": "code",
   "execution_count": null,
   "metadata": {},
   "outputs": [],
   "source": [
    "import pandas as pd\n",
    "\n",
    "def preprocess_titanic_data():\n",
    "    # Load the Titanic dataset from a URL\n",
    "    url = 'https://raw.githubusercontent.com/datasciencedojo/datasets/master/titanic.csv'\n",
    "    data = pd.read_csv(url)\n",
    "\n",
    "    # Select relevant features and target\n",
    "    features = ['Pclass', 'Sex', 'Age', 'SibSp', 'Parch', 'Fare', 'Embarked']\n",
    "    target = 'Survived'\n",
    "\n",
    "    # Handle missing values\n",
    "    data = data.assign(Age=data['Age'].fillna(data['Age'].median()))\n",
    "    data = data.assign(Embarked=data['Embarked'].fillna(data['Embarked'].mode()[0]))\n",
    "\n",
    "    # Convert categorical features to numerical\n",
    "    data['Sex'] = data['Sex'].map({'male': 0, 'female': 1})\n",
    "    data['Embarked'] = data['Embarked'].map({'C': 0, 'Q': 1, 'S': 2})\n",
    "\n",
    "    # Select features and target\n",
    "    X = data[features]\n",
    "    y = data[target]\n",
    "\n",
    "    # Combine features and target into a single DataFrame\n",
    "    processed_data = pd.concat([X, y], axis=1)\n",
    "\n",
    "    return processed_data"
   ]
  },
  {
   "cell_type": "code",
   "execution_count": null,
   "metadata": {},
   "outputs": [],
   "source": [
    "import os\n",
    "data_dir = \"data\"\n",
    "file_name = \"titanic_processed.csv\"\n",
    "os.makedirs(data_dir, exist_ok=True)\n",
    "\n",
    "data = preprocess_titanic_data()\n",
    "data.to_csv(os.path.join(data_dir, file_name), index=False)"
   ]
  },
  {
   "cell_type": "code",
   "execution_count": null,
   "metadata": {},
   "outputs": [],
   "source": [
    "from trainer import LocalTrainer, SourceCodeConfig, DataChannel\n",
    "\n",
    "trainer = LocalTrainer(\n",
    "    image=\"python:3.10-slim\",\n",
    "    output_path=output_path,\n",
    ")"
   ]
  },
  {
   "cell_type": "code",
   "execution_count": null,
   "metadata": {},
   "outputs": [],
   "source": [
    "test_data_channel = DataChannel(\n",
    "    channel_name=\"test\",\n",
    "    path=data_dir,\n",
    ")\n",
    "\n",
    "source_code_config = SourceCodeConfig(\n",
    "    source_code_dir='src',\n",
    "    command= f\"pip install -r requirements.txt && python train.py --data_path $$INPUT_DATA_TEST/titanic_processed.csv\",\n",
    ")\n",
    "\n",
    "trainer.run(\n",
    "    input_data_channels=[test_data_channel],\n",
    "    source_code_config=source_code_config\n",
    ")"
   ]
  }
 ],
 "metadata": {
  "kernelspec": {
   "display_name": "Python 3",
   "language": "python",
   "name": "python3"
  },
  "language_info": {
   "codemirror_mode": {
    "name": "ipython",
    "version": 3
   },
   "file_extension": ".py",
   "mimetype": "text/x-python",
   "name": "python",
   "nbconvert_exporter": "python",
   "pygments_lexer": "ipython3",
   "version": "3.10.13"
  }
 },
 "nbformat": 4,
 "nbformat_minor": 2
}
